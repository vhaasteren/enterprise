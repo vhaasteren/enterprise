{
 "cells": [
  {
   "cell_type": "markdown",
   "metadata": {
    "deletable": true,
    "editable": true
   },
   "source": [
    "# Usage"
   ]
  },
  {
   "cell_type": "code",
   "execution_count": 8,
   "metadata": {
    "collapsed": false,
    "deletable": true,
    "editable": true
   },
   "outputs": [],
   "source": [
    "% matplotlib inline\n",
    "%config InlineBackend.figure_format = 'retina'\n",
    "\n",
    "from __future__ import division\n",
    "\n",
    "import numpy as np\n",
    "import matplotlib.pyplot as plt\n",
    "\n",
    "from enterprise.pulsar import Pulsar\n",
    "import enterprise.signals.parameter as parameter\n",
    "from enterprise.signals import utils\n",
    "from enterprise.signals import signal_base\n",
    "from enterprise.signals import selections\n",
    "from enterprise.signals.selections import Selection\n",
    "from tests.enterprise_test_data import datadir\n",
    "from enterprise.signals import white_signals\n",
    "from enterprise.signals import gp_signals\n",
    "from enterprise.signals import deterministic_signals"
   ]
  },
  {
   "cell_type": "markdown",
   "metadata": {
    "deletable": true,
    "editable": true
   },
   "source": [
    "## Setting up the `Pulsar` object\n",
    "\n",
    "`enterprise` uses a specific `Pulsar` object to store all of the relevant pulsar information (i.e. TOAs, residuals, error bars, flags, etc) from the timing package. Eventually `enterprise` will support both `PINT` and `tempo2`; however, for the moment it only supports `tempo2` through the [`libstempo`](https://github.com/vallis/libstempo) package. This object is then used to initalize `Signal`s that define the generative model for the pulsar residuals. This is in keeping with the overall `enterprise` philosophy that the pulsar data should be as loosley coupled as possible to the pulsar model.\n",
    "\n",
    "Below we initialize a pulsar class with NANOGrav B1855+09 data by passing it the par and tim file."
   ]
  },
  {
   "cell_type": "code",
   "execution_count": 9,
   "metadata": {
    "collapsed": false,
    "deletable": true,
    "editable": true
   },
   "outputs": [],
   "source": [
    "# pulsar file information\n",
    "parfiles = datadir + '/B1855+09_NANOGrav_11yv0.gls.par'\n",
    "timfiles = datadir + 'data/B1855+09_NANOGrav_11yv0.tim'\n",
    "\n",
    "psr = Pulsar(parfiles, timfiles)"
   ]
  },
  {
   "cell_type": "markdown",
   "metadata": {},
   "source": [
    "## `feather` files are now supported\n",
    "\n",
    "`enterprise` now supports the use of `feather` files to store the `Pulsar` objects. These files are compressed, and therefore they are useful for saving and loading large pulsar datasets. Below we show how to save and load a `Pulsar` object using `feather` files with a corresponding noise dictionary. Saving Pulsar objects this way requires the `pyarrow` package and `libstempo` or `PINT` to be installed so that we can create a `Pulsar` object using `par` and `tim` files. Once the `feather` file exists, we can load the `Pulsar` object without the need for `libstempo` or `PINT`.\n",
    "\n",
    "`feather` files can also take in dictionaries of noise parameters for each pulsar to be used in `enterprise` models. Below, we show how to save and load a `Pulsar` object with a noise dictionary."
   ]
  },
  {
   "cell_type": "code",
   "execution_count": null,
   "metadata": {},
   "outputs": [],
   "source": [
    "psr_name = 'J1909-3744'\n",
    "\n",
    "# Here is the noise dictionary for this pulsar\n",
    "params = {'J1909-3744_Rcvr_800_GASP_efac': 0.985523,\n",
    "        'J1909-3744_Rcvr1_2_GUPPI_efac': 1.03462,\n",
    "        'J1909-3744_Rcvr1_2_GASP_efac': 0.986438,\n",
    "        'J1909-3744_Rcvr_800_GUPPI_efac': 1.05208,\n",
    "        'J1909-3744_Rcvr1_2_GASP_log10_ecorr': -8.00662,\n",
    "        'J1909-3744_Rcvr1_2_GUPPI_log10_ecorr': -7.13828,\n",
    "        'J1909-3744_Rcvr_800_GASP_log10_ecorr': -7.86032,\n",
    "        'J1909-3744_Rcvr_800_GUPPI_log10_ecorr': -7.14764,\n",
    "        'J1909-3744_Rcvr_800_GASP_log10_equad': -6.6358,\n",
    "        'J1909-3744_Rcvr1_2_GUPPI_log10_equad': -8.31285,\n",
    "        'J1909-3744_Rcvr1_2_GASP_log10_equad': -7.97229,\n",
    "        'J1909-3744_Rcvr_800_GUPPI_log10_equad': -7.43842,\n",
    "        'J1909-3744_log10_A': -15.1073,\n",
    "        'J1909-3744_gamma': 2.88933}"
   ]
  },
  {
   "cell_type": "markdown",
   "metadata": {},
   "source": [
    "### Save to feather file"
   ]
  },
  {
   "cell_type": "code",
   "execution_count": null,
   "metadata": {},
   "outputs": [],
   "source": [
    "psr = Pulsar(datadir + f\"/{psr_name}_NANOGrav_9yv1.gls.par\", datadir + f\"/{psr_name}_NANOGrav_9yv1.tim\")\n",
    "\n",
    "psr.to_feather(datadir + f\"/{psr_name}_NANOGrav_9yv1.t2.feather\", noisedict=params)"
   ]
  },
  {
   "cell_type": "markdown",
   "metadata": {},
   "source": [
    "### Load from feather file"
   ]
  },
  {
   "cell_type": "code",
   "execution_count": null,
   "metadata": {},
   "outputs": [],
   "source": [
    "psr = Pulsar(datadir + f\"/{psr_name}_NANOGrav_9yv1.t2.feather\")"
   ]
  },
  {
   "cell_type": "markdown",
   "metadata": {
    "deletable": true,
    "editable": true
   },
   "source": [
    "## Parameters\n",
    "\n",
    "In `enterprise` signal parameters are set by specifying a prior distribution (i.e., Uniform, Normal, etc.). Below we will give an example of this functionality."
   ]
  },
  {
   "cell_type": "code",
   "execution_count": 10,
   "metadata": {
    "collapsed": true,
    "deletable": true,
    "editable": true
   },
   "outputs": [],
   "source": [
    "# lets define an efac parameter with a uniform prior from [0.5, 5]\n",
    "efac = parameter.Uniform(0.5, 5)"
   ]
  },
  {
   "cell_type": "markdown",
   "metadata": {
    "deletable": true,
    "editable": true
   },
   "source": [
    "This is an *abstract* parameter class in that it is not yet intialized. It is equivalent to defining the class via the standard nomenclature `class efac(object)...` The parameter is then intialized via a name. This way, a single parameter class can be initialized for multiple signal parameters with different names (i.e. EFAC per observing backend, etc). Once the parameter is initialized then you then have access to many useful methods."
   ]
  },
  {
   "cell_type": "code",
   "execution_count": 13,
   "metadata": {
    "collapsed": false,
    "deletable": true,
    "editable": true
   },
   "outputs": [
    {
     "name": "stdout",
     "output_type": "stream",
     "text": [
      "efac_1\n",
      "0.222222222222 -1.50407739678\n",
      "[ 2.94183156  2.51064331  2.44655821  1.1799445   2.41031989]\n"
     ]
    }
   ],
   "source": [
    "# initialize efac parameter with name \"efac_1\"\n",
    "efac1 = efac('efac_1')\n",
    "\n",
    "# return parameter name\n",
    "print(efac1.name)\n",
    "\n",
    "# get pdf at a point (log pdf is access)\n",
    "print(efac1.get_pdf(1.3), efac1.get_logpdf(1.3))\n",
    "\n",
    "# return 5 samples from this prior distribution\n",
    "print(efac1.sample(size=5))"
   ]
  },
  {
   "cell_type": "markdown",
   "metadata": {
    "deletable": true,
    "editable": true
   },
   "source": [
    "## Set up a basic pulsar noise model\n",
    "\n",
    "For our basic noise model we will use standard EFAC, EQUAD, and ECORR white noise with a powerlaw red noise parameterized by an amplitude and spectral index. Using the methods described above we define our parameters for our noise model below."
   ]
  },
  {
   "cell_type": "code",
   "execution_count": 14,
   "metadata": {
    "collapsed": true,
    "deletable": true,
    "editable": true
   },
   "outputs": [],
   "source": [
    "# white and red noise parameters with uniform priors\n",
    "efac = parameter.Uniform(0.5, 5)\n",
    "log10_equad = parameter.Uniform(-10, -5)\n",
    "log10_ecorr = parameter.Uniform(-10, -5)\n",
    "log10_A = parameter.Uniform(-18, -12)\n",
    "gamma = parameter.Uniform(1, 7)"
   ]
  },
  {
   "cell_type": "markdown",
   "metadata": {
    "deletable": true,
    "editable": true
   },
   "source": [
    "### White noise signals\n",
    "\n",
    "White noise signals are straightforward to intialize"
   ]
  },
  {
   "cell_type": "code",
   "execution_count": null,
   "metadata": {
    "collapsed": true,
    "deletable": true,
    "editable": true
   },
   "outputs": [],
   "source": [
    "# EFAC, EQUAD, and ECORR signals\n",
    "ef = ws.MeasurementNoise(efac=efac)\n",
    "eq = ws.EquadNoise(log10_equad=log10_equad)\n",
    "ec = gs.EcorrBasisModel(log10_ecorr=log10_ecorr)"
   ]
  },
  {
   "cell_type": "markdown",
   "metadata": {
    "deletable": true,
    "editable": true
   },
   "source": [
    "Again, these are *abstract* classes that will be in itialized when passes a `Pulsar` object. This, again, makes for ease of use when constucting pulsar signal models in that these classes are created on the fly and can be re-intialized with different pulsars."
   ]
  },
  {
   "cell_type": "markdown",
   "metadata": {
    "deletable": true,
    "editable": true
   },
   "source": [
    "### Red noise signals\n",
    "\n",
    "Red noise signals are handled somewhat differently than other signals in that we do not create the class by passing the parameters directly. Instead we use the `Function` factory (creates a class, not an instance) to set the red noise PSD used (i.e. powerlaw, spectrum, broken, etc). This allows the user to define custom PSDs with no extra coding overhead other than the PSD definition itself."
   ]
  },
  {
   "cell_type": "code",
   "execution_count": null,
   "metadata": {
    "collapsed": true,
    "deletable": true,
    "editable": true
   },
   "outputs": [],
   "source": [
    "# Use Function object to set power-law red noise with uniform priors\n",
    "pl = Function(utils.powerlaw, log10_A=log10_A, gamma=gamma)\n",
    "\n",
    "# red noise signal using Fourier GP\n",
    "rn = gs.FourierBasisGP(spectrum=pl, components=30)"
   ]
  },
  {
   "cell_type": "markdown",
   "metadata": {
    "deletable": true,
    "editable": true
   },
   "source": [
    "Here we have defined a power-law function class that will be initialized when the red noise class is initialized. The red noise signal model is then a powerlaw red noise process modeled via a Fourier basis Gaussian Process with 30 components. "
   ]
  },
  {
   "cell_type": "markdown",
   "metadata": {
    "deletable": true,
    "editable": true
   },
   "source": [
    "### Linear timing model\n",
    "\n",
    "We must include the timing model in all of our analyses. In this case we treat it as a gaussian process with very large variances. Thus, this is equvalent to marginalizing over the linear timing model coefficients assuming uniform priors. In `enterprise` this is setup via:"
   ]
  },
  {
   "cell_type": "code",
   "execution_count": null,
   "metadata": {
    "collapsed": true,
    "deletable": true,
    "editable": true
   },
   "outputs": [],
   "source": [
    "# timing model as GP (no parameters)\n",
    "tm = gs.TimingModel()"
   ]
  },
  {
   "cell_type": "markdown",
   "metadata": {
    "deletable": true,
    "editable": true
   },
   "source": [
    "### Initializing the model\n",
    "\n",
    "Now that we have all of our signals defined we can define our total noise model as the sum of all of the components and intialize by passing that combined signal class the pulsar object. Is that awesome or what!"
   ]
  },
  {
   "cell_type": "code",
   "execution_count": 18,
   "metadata": {
    "collapsed": false,
    "deletable": true,
    "editable": true
   },
   "outputs": [
    {
     "data": {
      "text/plain": [
       "[\"B1855+09_efac\":Uniform(0.5,5),\n",
       " \"B1855+09_gamma\":Uniform(1,7),\n",
       " \"B1855+09_log10_A\":Uniform(-18,-12),\n",
       " \"B1855+09_log10_ecorr\":Uniform(-10,-5),\n",
       " \"B1855+09_log10_equad\":Uniform(-10,-5)]"
      ]
     },
     "execution_count": 18,
     "metadata": {},
     "output_type": "execute_result"
    }
   ],
   "source": [
    "# create combined signal class with some metaclass magic\n",
    "s = ef + ec + eq + rn + tm\n",
    "\n",
    "# initialize model with pulsar object\n",
    "pm = s(psr)\n",
    "\n",
    "# print out the parameter names and priors\n",
    "pm.params"
   ]
  }
 ],
 "metadata": {
  "kernelspec": {
   "display_name": "Python 2",
   "language": "python",
   "name": "python2"
  },
  "language_info": {
   "codemirror_mode": {
    "name": "ipython",
    "version": 2
   },
   "file_extension": ".py",
   "mimetype": "text/x-python",
   "name": "python",
   "nbconvert_exporter": "python",
   "pygments_lexer": "ipython2",
   "version": "2.7.13"
  }
 },
 "nbformat": 4,
 "nbformat_minor": 2
}
